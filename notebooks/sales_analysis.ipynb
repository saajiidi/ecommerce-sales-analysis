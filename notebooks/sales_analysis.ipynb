{
 "cells": [
  {
   "cell_type": "code",
   "execution_count": null,
   "metadata": {},
   "outputs": [],
   "source": [
    "# Import libraries\n",
    "import pandas as pd\n",
    "import numpy as np\n",
    "import matplotlib.pyplot as plt\n",
    "import seaborn as sns\n",
    "\n",
    "# Load the dataset\n",
    "df = pd.read_csv('../data/ecommerce_data.csv', encoding='latin1')\n",
    "\n",
    "# Display the first few rows\n",
    "print(df.head())\n",
    "\n",
    "# Data cleaning\n",
    "df.dropna(inplace=True)  # Remove rows with missing values\n",
    "df['InvoiceDate'] = pd.to_datetime(df['InvoiceDate'])  # Convert to datetime\n",
    "df['TotalSales'] = df['Quantity'] * df['UnitPrice']  # Calculate total sales\n",
    "\n",
    "# Exploratory Data Analysis (EDA)\n",
    "# 1. Sales over time\n",
    "df.set_index('InvoiceDate', inplace=True)\n",
    "monthly_sales = df['TotalSales'].resample('M').sum()\n",
    "\n",
    "plt.figure(figsize=(10, 6))\n",
    "monthly_sales.plot()\n",
    "plt.title('Monthly Sales Over Time')\n",
    "plt.xlabel('Date')\n",
    "plt.ylabel('Total Sales')\n",
    "plt.show()\n",
    "\n",
    "# 2. Top-selling products\n",
    "top_products = df.groupby('Description')['Quantity'].sum().sort_values(ascending=False).head(10)\n",
    "plt.figure(figsize=(10, 6))\n",
    "top_products.plot(kind='bar')\n",
    "plt.title('Top 10 Selling Products')\n",
    "plt.xlabel('Product')\n",
    "plt.ylabel('Quantity Sold')\n",
    "plt.show()\n",
    "\n",
    "# 3. Customer segmentation by country\n",
    "country_sales = df.groupby('Country')['TotalSales'].sum().sort_values(ascending=False).head(10)\n",
    "plt.figure(figsize=(10, 6))\n",
    "country_sales.plot(kind='bar')\n",
    "plt.title('Top 10 Countries by Sales')\n",
    "plt.xlabel('Country')\n",
    "plt.ylabel('Total Sales')\n",
    "plt.show()"
   ]
  }
 ],
 "metadata": {
  "language_info": {
   "name": "python"
  }
 },
 "nbformat": 4,
 "nbformat_minor": 2
}
